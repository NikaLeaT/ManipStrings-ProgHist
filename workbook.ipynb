{
 "cells": [
  {
   "cell_type": "markdown",
   "id": "6393e4b6",
   "metadata": {},
   "source": [
    "Adding and Multiplying"
   ]
  },
  {
   "cell_type": "code",
   "execution_count": 1,
   "id": "e2f250d9",
   "metadata": {},
   "outputs": [],
   "source": [
    "message = \"Hello World\""
   ]
  },
  {
   "cell_type": "code",
   "execution_count": 3,
   "id": "4c2b0218",
   "metadata": {},
   "outputs": [
    {
     "name": "stdout",
     "output_type": "stream",
     "text": [
      "hello world\n"
     ]
    }
   ],
   "source": [
    "# concatenating: joining strings with a +\n",
    "\n",
    "message1 = 'hello' + ' ' + 'world'\n",
    "print(message1)"
   ]
  },
  {
   "cell_type": "code",
   "execution_count": 4,
   "id": "5fe26ca2",
   "metadata": {},
   "outputs": [
    {
     "name": "stdout",
     "output_type": "stream",
     "text": [
      "hello hello hello world\n"
     ]
    }
   ],
   "source": [
    "# multiplying: creating copies of a string using *\n",
    "message2a = 'hello ' * 3\n",
    "message2b = 'world'\n",
    "print(message2a + message2b)"
   ]
  },
  {
   "cell_type": "code",
   "execution_count": 5,
   "id": "a271d989",
   "metadata": {},
   "outputs": [
    {
     "name": "stdout",
     "output_type": "stream",
     "text": [
      "howdy world\n"
     ]
    }
   ],
   "source": [
    "# appending: adding material to the end of a string using +=\n",
    "message3 = 'howdy'\n",
    "message3 += ' '\n",
    "message3 += 'world'\n",
    "print(message3)"
   ]
  },
  {
   "cell_type": "markdown",
   "id": "97680675",
   "metadata": {},
   "source": [
    "Finding and Changing"
   ]
  },
  {
   "cell_type": "code",
   "execution_count": 6,
   "id": "9134421b",
   "metadata": {},
   "outputs": [
    {
     "name": "stdout",
     "output_type": "stream",
     "text": [
      "11\n"
     ]
    }
   ],
   "source": [
    "# length: checking the length of a string using the len function\n",
    "message4 = 'hello' + ' ' + 'world'\n",
    "print(len(message4))"
   ]
  },
  {
   "cell_type": "code",
   "execution_count": 7,
   "id": "ad210baa",
   "metadata": {},
   "outputs": [
    {
     "name": "stdout",
     "output_type": "stream",
     "text": [
      "6\n"
     ]
    }
   ],
   "source": [
    "# find: searching for a piece of a string and labeling it with the index position in numbers\n",
    "message5 = \"hello world\"\n",
    "message5a = message5.find(\"worl\")\n",
    "print(message5a)"
   ]
  },
  {
   "cell_type": "code",
   "execution_count": null,
   "id": "80e88682",
   "metadata": {},
   "outputs": [
    {
     "name": "stdout",
     "output_type": "stream",
     "text": [
      "-1\n"
     ]
    }
   ],
   "source": [
    "# using find if there isn't the value present gives you a negative value\n",
    "message6 = \"Hello World\"\n",
    "message6b = message6.find(\"squirrel\")\n",
    "print(message6b)"
   ]
  },
  {
   "cell_type": "code",
   "execution_count": 9,
   "id": "dff9b667",
   "metadata": {},
   "outputs": [
    {
     "name": "stdout",
     "output_type": "stream",
     "text": [
      "hello world\n"
     ]
    }
   ],
   "source": [
    "# standardizing to lower case\n",
    "message7 = \"HELLO WORLD\"\n",
    "message7a = message7.lower()\n",
    "print(message7a)"
   ]
  },
  {
   "cell_type": "code",
   "execution_count": 11,
   "id": "d8a05779",
   "metadata": {},
   "outputs": [
    {
     "name": "stdout",
     "output_type": "stream",
     "text": [
      "HELLO WORLD\n"
     ]
    }
   ],
   "source": [
    "# standardizing to upper case\n",
    "message7b = \"hello world\"\n",
    "message7c = message7b.upper()\n",
    "print(message7c)"
   ]
  },
  {
   "cell_type": "code",
   "execution_count": 12,
   "id": "1e1da986",
   "metadata": {},
   "outputs": [
    {
     "name": "stdout",
     "output_type": "stream",
     "text": [
      "HEpizzapizzaO WORpizzaD\n"
     ]
    }
   ],
   "source": [
    "# replacing a substring within a string\n",
    "message8 = \"HELLO WORLD\"\n",
    "message8a = message8.replace(\"L\", \"pizza\")\n",
    "print(message8a)"
   ]
  },
  {
   "cell_type": "code",
   "execution_count": 13,
   "id": "d3927baa",
   "metadata": {},
   "outputs": [
    {
     "name": "stdout",
     "output_type": "stream",
     "text": [
      "ello Wo\n"
     ]
    }
   ],
   "source": [
    "# remove unwanted string parts using slice function\n",
    "message9 = \"Hello World\"\n",
    "message9a = message9[1:8]\n",
    "print(message9a)"
   ]
  },
  {
   "cell_type": "code",
   "execution_count": 14,
   "id": "e3c641c0",
   "metadata": {},
   "outputs": [
    {
     "name": "stdout",
     "output_type": "stream",
     "text": [
      "llo Wo\n"
     ]
    }
   ],
   "source": [
    "# slicing using integers\n",
    "startLoc = 2\n",
    "endLoc = 8\n",
    "message9b = message9[startLoc: endLoc]\n",
    "print(message9b)"
   ]
  },
  {
   "cell_type": "markdown",
   "id": "59776456",
   "metadata": {},
   "source": [
    "Escape Sequences"
   ]
  },
  {
   "cell_type": "code",
   "execution_count": 15,
   "id": "a515e26e",
   "metadata": {},
   "outputs": [
    {
     "name": "stdout",
     "output_type": "stream",
     "text": [
      "\"\n"
     ]
    }
   ],
   "source": [
    "# how to include quote marks in a string without messing up the string\n",
    "print('\\\"')"
   ]
  },
  {
   "cell_type": "code",
   "execution_count": 16,
   "id": "85d94f55",
   "metadata": {},
   "outputs": [
    {
     "name": "stdout",
     "output_type": "stream",
     "text": [
      "The program printed \"hello world\"\n"
     ]
    }
   ],
   "source": [
    "print('The program printed \\\"hello world\\\"')"
   ]
  },
  {
   "cell_type": "code",
   "execution_count": 17,
   "id": "60b5ce4e",
   "metadata": {},
   "outputs": [
    {
     "name": "stdout",
     "output_type": "stream",
     "text": [
      "hello\thello\thello\n",
      "world\n"
     ]
    }
   ],
   "source": [
    "print('hello\\thello\\thello\\nworld')"
   ]
  }
 ],
 "metadata": {
  "kernelspec": {
   "display_name": "Python 3",
   "language": "python",
   "name": "python3"
  },
  "language_info": {
   "codemirror_mode": {
    "name": "ipython",
    "version": 3
   },
   "file_extension": ".py",
   "mimetype": "text/x-python",
   "name": "python",
   "nbconvert_exporter": "python",
   "pygments_lexer": "ipython3",
   "version": "3.12.1"
  }
 },
 "nbformat": 4,
 "nbformat_minor": 5
}
